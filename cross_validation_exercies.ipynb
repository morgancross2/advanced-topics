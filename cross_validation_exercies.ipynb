{
 "cells": [
  {
   "cell_type": "code",
   "execution_count": 16,
   "id": "c9457726-518e-4a4b-a46c-5fc259a49f9e",
   "metadata": {},
   "outputs": [],
   "source": [
    "import numpy as np\n",
    "import pandas as pd\n",
    "\n",
    "import matplotlib.pyplot as plt\n",
    "from pydataset import data\n",
    "\n",
    "from sklearn.model_selection import train_test_split\n",
    "from sklearn.tree import DecisionTreeClassifier\n",
    "from sklearn.neighbors import KNeighborsClassifier\n",
    "from sklearn.model_selection import cross_val_score\n",
    "from sklearn.model_selection import GridSearchCV"
   ]
  },
  {
   "cell_type": "markdown",
   "id": "ecd00fba-08a2-49a2-98fe-51b0c0238461",
   "metadata": {
    "tags": []
   },
   "source": [
    "### Use the cross validation techniques discussed in the lesson to figure out what kind of model works best with the cars dataset used in the lesson."
   ]
  },
  {
   "cell_type": "code",
   "execution_count": 7,
   "id": "172eefd3-2899-40ef-b27a-b684d0a2bf90",
   "metadata": {},
   "outputs": [],
   "source": [
    "df = data('mpg')"
   ]
  },
  {
   "cell_type": "code",
   "execution_count": 8,
   "id": "db63c022-b9bf-4fa9-aca5-47cc9e8423c4",
   "metadata": {},
   "outputs": [
    {
     "data": {
      "text/html": [
       "<div>\n",
       "<style scoped>\n",
       "    .dataframe tbody tr th:only-of-type {\n",
       "        vertical-align: middle;\n",
       "    }\n",
       "\n",
       "    .dataframe tbody tr th {\n",
       "        vertical-align: top;\n",
       "    }\n",
       "\n",
       "    .dataframe thead th {\n",
       "        text-align: right;\n",
       "    }\n",
       "</style>\n",
       "<table border=\"1\" class=\"dataframe\">\n",
       "  <thead>\n",
       "    <tr style=\"text-align: right;\">\n",
       "      <th></th>\n",
       "      <th>manufacturer</th>\n",
       "      <th>model</th>\n",
       "      <th>displ</th>\n",
       "      <th>year</th>\n",
       "      <th>cyl</th>\n",
       "      <th>trans</th>\n",
       "      <th>drv</th>\n",
       "      <th>cty</th>\n",
       "      <th>hwy</th>\n",
       "      <th>fl</th>\n",
       "      <th>class</th>\n",
       "    </tr>\n",
       "  </thead>\n",
       "  <tbody>\n",
       "    <tr>\n",
       "      <th>1</th>\n",
       "      <td>audi</td>\n",
       "      <td>a4</td>\n",
       "      <td>1.8</td>\n",
       "      <td>1999</td>\n",
       "      <td>4</td>\n",
       "      <td>auto(l5)</td>\n",
       "      <td>f</td>\n",
       "      <td>18</td>\n",
       "      <td>29</td>\n",
       "      <td>p</td>\n",
       "      <td>compact</td>\n",
       "    </tr>\n",
       "    <tr>\n",
       "      <th>2</th>\n",
       "      <td>audi</td>\n",
       "      <td>a4</td>\n",
       "      <td>1.8</td>\n",
       "      <td>1999</td>\n",
       "      <td>4</td>\n",
       "      <td>manual(m5)</td>\n",
       "      <td>f</td>\n",
       "      <td>21</td>\n",
       "      <td>29</td>\n",
       "      <td>p</td>\n",
       "      <td>compact</td>\n",
       "    </tr>\n",
       "    <tr>\n",
       "      <th>3</th>\n",
       "      <td>audi</td>\n",
       "      <td>a4</td>\n",
       "      <td>2.0</td>\n",
       "      <td>2008</td>\n",
       "      <td>4</td>\n",
       "      <td>manual(m6)</td>\n",
       "      <td>f</td>\n",
       "      <td>20</td>\n",
       "      <td>31</td>\n",
       "      <td>p</td>\n",
       "      <td>compact</td>\n",
       "    </tr>\n",
       "    <tr>\n",
       "      <th>4</th>\n",
       "      <td>audi</td>\n",
       "      <td>a4</td>\n",
       "      <td>2.0</td>\n",
       "      <td>2008</td>\n",
       "      <td>4</td>\n",
       "      <td>auto(av)</td>\n",
       "      <td>f</td>\n",
       "      <td>21</td>\n",
       "      <td>30</td>\n",
       "      <td>p</td>\n",
       "      <td>compact</td>\n",
       "    </tr>\n",
       "    <tr>\n",
       "      <th>5</th>\n",
       "      <td>audi</td>\n",
       "      <td>a4</td>\n",
       "      <td>2.8</td>\n",
       "      <td>1999</td>\n",
       "      <td>6</td>\n",
       "      <td>auto(l5)</td>\n",
       "      <td>f</td>\n",
       "      <td>16</td>\n",
       "      <td>26</td>\n",
       "      <td>p</td>\n",
       "      <td>compact</td>\n",
       "    </tr>\n",
       "  </tbody>\n",
       "</table>\n",
       "</div>"
      ],
      "text/plain": [
       "  manufacturer model  displ  year  cyl       trans drv  cty  hwy fl    class\n",
       "1         audi    a4    1.8  1999    4    auto(l5)   f   18   29  p  compact\n",
       "2         audi    a4    1.8  1999    4  manual(m5)   f   21   29  p  compact\n",
       "3         audi    a4    2.0  2008    4  manual(m6)   f   20   31  p  compact\n",
       "4         audi    a4    2.0  2008    4    auto(av)   f   21   30  p  compact\n",
       "5         audi    a4    2.8  1999    6    auto(l5)   f   16   26  p  compact"
      ]
     },
     "execution_count": 8,
     "metadata": {},
     "output_type": "execute_result"
    }
   ],
   "source": [
    "df.head()"
   ]
  },
  {
   "cell_type": "code",
   "execution_count": 9,
   "id": "71aeb5f9-a80f-493a-94a9-9df7d55e4537",
   "metadata": {},
   "outputs": [],
   "source": [
    "df.trans = np.where(df.trans.str.startswith('auto'), 'auto', 'manual')"
   ]
  },
  {
   "cell_type": "code",
   "execution_count": 10,
   "id": "db67397e-7284-4dd6-9593-a2c9d213ffea",
   "metadata": {},
   "outputs": [],
   "source": [
    "X = df[['displ', 'year', 'cyl', 'cty', 'hwy']]\n",
    "y = df.trans\n",
    "X_train, X_test, y_train, y_test = train_test_split(X, y, test_size=.2, random_state=123)\n",
    "X_train, X_val, y_train, y_val = train_test_split(X_train, y_train,\n",
    "                                                  test_size=.25,\n",
    "                                                  random_state=123)"
   ]
  },
  {
   "cell_type": "code",
   "execution_count": 11,
   "id": "c97087aa-5fb9-4345-aca5-dfec08772ce2",
   "metadata": {},
   "outputs": [
    {
     "data": {
      "text/plain": [
       "((140, 5), (47, 5), (47, 5))"
      ]
     },
     "execution_count": 11,
     "metadata": {},
     "output_type": "execute_result"
    }
   ],
   "source": [
    "X_train.shape, X_val.shape, X_test.shape"
   ]
  },
  {
   "cell_type": "code",
   "execution_count": 20,
   "id": "7cc5b9e9-8aaa-44b2-b091-9042c801cdf7",
   "metadata": {},
   "outputs": [
    {
     "data": {
      "image/png": "[encoded data removed]",
      "text/plain": [
       "<Figure size 432x288 with 1 Axes>"
      ]
     },
     "metadata": {
      "needs_background": "light"
     },
     "output_type": "display_data"
    }
   ],
   "source": [
    "results = []\n",
    "for x in range(1,21):\n",
    "    tree = DecisionTreeClassifier(max_depth=x, random_state=123)\n",
    "    score = cross_val_score(tree, X_train, y_train, cv=5).mean()\n",
    "    results.append([x, score])\n",
    "pd.DataFrame(results, columns = ['max_depth', 'accuracy']).set_index('max_depth').plot(xticks=range(1,21))\n",
    "plt.title('accuracy vs max_depth in tree')\n",
    "plt.grid()\n",
    "plt.show()"
   ]
  },
  {
   "cell_type": "code",
   "execution_count": 15,
   "id": "b86c2805-995f-46ce-91a2-500155c8970f",
   "metadata": {},
   "outputs": [
    {
     "data": {
      "image/png": "[encoded data removed]",
      "text/plain": [
       "<Figure size 432x288 with 1 Axes>"
      ]
     },
     "metadata": {
      "needs_background": "light"
     },
     "output_type": "display_data"
    }
   ],
   "source": [
    "results = []\n",
    "for x in range(1,21):\n",
    "    knn = KNeighborsClassifier(n_neighbors=x)\n",
    "    score = cross_val_score(knn, X_train, y_train, cv=5).mean()\n",
    "    results.append([x, score])\n",
    "pd.DataFrame(results, columns = ['n_neighbors', 'accuracy']).set_index('n_neighbors').plot(xticks=range(1,21))\n",
    "plt.title('accuracy vs max_depth in knn')\n",
    "plt.show()"
   ]
  },
  {
   "cell_type": "code",
   "execution_count": 18,
   "id": "ce75b926-f4aa-403d-85a0-693ab2daeed4",
   "metadata": {},
   "outputs": [
    {
     "data": {
      "text/plain": [
       "(0.723404255319149,\n",
       " DecisionTreeClassifier(criterion='entropy', max_depth=9, random_state=123))"
      ]
     },
     "execution_count": 18,
     "metadata": {},
     "output_type": "execute_result"
    }
   ],
   "source": [
    "dt = DecisionTreeClassifier(random_state=123)\n",
    "params = {'max_depth':range(1,21),\n",
    "         'min_samples_leaf':range(1,21),\n",
    "         'criterion':['gini', 'entropy']}\n",
    "grid = GridSearchCV(dt, params, cv=5)\n",
    "grid.fit(X_train, y_train)\n",
    "grid.best_estimator_.score(X_test, y_test), grid.best_estimator_"
   ]
  },
  {
   "cell_type": "code",
   "execution_count": 19,
   "id": "b2279d33-2551-48c7-9010-111b6fa3ceb2",
   "metadata": {},
   "outputs": [
    {
     "data": {
      "text/plain": [
       "(0.7021276595744681, KNeighborsClassifier(n_neighbors=20))"
      ]
     },
     "execution_count": 19,
     "metadata": {},
     "output_type": "execute_result"
    }
   ],
   "source": [
    "knn = KNeighborsClassifier()\n",
    "params = {'n_neighbors':range(1,21)}\n",
    "grid = GridSearchCV(knn, params, cv=5)\n",
    "grid.fit(X_train, y_train)\n",
    "grid.best_estimator_.score(X_test, y_test), grid.best_estimator_"
   ]
  },
  {
   "cell_type": "code",
   "execution_count": 21,
   "id": "33ec49ba-67b2-4656-99b7-86e09a70019f",
   "metadata": {},
   "outputs": [],
   "source": [
    "# The best model was a Decision tree with max_depth 9 when using the GridSearch.\n",
    "# The best model was also a tree but with max_depth 10 or 11 when using cross_val_score"
   ]
  }
 ],
 "metadata": {
  "kernelspec": {
   "display_name": "Python 3 (ipykernel)",
   "language": "python",
   "name": "python3"
  },
  "language_info": {
   "codemirror_mode": {
    "name": "ipython",
    "version": 3
   },
   "file_extension": ".py",
   "mimetype": "text/x-python",
   "name": "python",
   "nbconvert_exporter": "python",
   "pygments_lexer": "ipython3",
   "version": "3.9.12"
  }
 },
 "nbformat": 4,
 "nbformat_minor": 5
}
